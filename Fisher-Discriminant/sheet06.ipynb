{
 "cells": [
  {
   "cell_type": "markdown",
   "metadata": {},
   "source": [
    "# Fisher Linear Discriminant\n",
    "\n",
    "In this exercise, you will apply Fisher Linear Discriminant as described in Chapter 3.8.2 of Duda et al. on the UCI Abalone dataset. A description of the dataset is given at the page https://archive.ics.uci.edu/ml/datasets/Abalone. The following two methods are provided for your convenience: \n",
    "\n",
    "\n",
    "* **`utils.Abalone.__init__(self)`** reads the Abalone data and instantiates three data matrices of size (1528, 7), (1307, 7), and (1342, 7) corresponding to the three classes in the dataset: *male (M)*, *female (F)*, and *infant (I)*.\n",
    "\n",
    "\n",
    "* **`utils.Abalone.plot(self,w)`** produces a histogram of the data when projected onto a vector `w`, and where each class is shown in a different color.\n",
    "\n",
    "\n",
    "Sample code that makes use of these two methods is given below. It loads the data, looks at the shape of instantiated matrices, and plots various projections of the data: (1) projection on the first dimension of the data, and (2) projection on a random direction."
   ]
  },
  {
   "cell_type": "code",
   "execution_count": 8,
   "metadata": {},
   "outputs": [
    {
     "name": "stdout",
     "output_type": "stream",
     "text": [
      "(1528, 7) (1307, 7) (1342, 7)\n"
     ]
    },
    {
     "name": "stderr",
     "output_type": "stream",
     "text": [
      "C:\\Users\\htlsh\\Anaconda3\\lib\\site-packages\\matplotlib\\axes\\_axes.py:6571: UserWarning: The 'normed' kwarg is deprecated, and has been replaced by the 'density' kwarg.\n",
      "  warnings.warn(\"The 'normed' kwarg is deprecated, and has been \"\n"
     ]
    },
    {
     "data": {
      "image/png": "[encoded data removed]",
      "text/plain": [
       "<Figure size 432x288 with 1 Axes>"
      ]
     },
     "metadata": {
      "needs_background": "light"
     },
     "output_type": "display_data"
    },
    {
     "data": {
      "image/png": "[encoded data removed]",
      "text/plain": [
       "<Figure size 432x288 with 1 Axes>"
      ]
     },
     "metadata": {
      "needs_background": "light"
     },
     "output_type": "display_data"
    }
   ],
   "source": [
    "%matplotlib inline\n",
    "import utils,numpy\n",
    "\n",
    "# Load the data\n",
    "abalone = utils.Abalone()\n",
    "\n",
    "# Print dataset size for each class\n",
    "print(abalone.M.shape,abalone.F.shape, abalone.I.shape)\n",
    "\n",
    "# Project data on the first dimension\n",
    "w1 = numpy.array([1,0,0,0,0,0,0])\n",
    "abalone.plot(w1,'projection on the first dimension')\n",
    "\n",
    "# Project data on a random direction\n",
    "w2 = numpy.random.normal(0,1,[7])\n",
    "w2 /= (w2**2).sum()**.5\n",
    "abalone.plot(w2,'projection on a random direction')"
   ]
  },
  {
   "cell_type": "markdown",
   "metadata": {},
   "source": [
    "## Implementation (30 P)\n",
    "\n",
    "* **Create a method `w = fisher(X1,X2)` that takes as input the data for two classes and returns the Fisher linear discriminant.**\n",
    "\n",
    "\n",
    "* **Create a method `J(X1,X2,w)` that evaluates the objective defined in Equation 96 of Duda et al. for an arbitrary projection vector `w`.**\n",
    "\n",
    "\n",
    "* **Create a method `z = phi(X)` that returns a quadratic expansion for each data point `x` in the dataset. Such expansion consists of the vector `x` itself, to which we concatenate the vector of all pairwise products between elements of `x`.** In other words, letting $x = (x_1,\\dots,x_d)$ denote the $d$-dimensional data point, the quadratic expansion for this data point is a $d \\cdot (d+3)/2$ dimensional vector given by $\\phi(x) = (x_i)_{1 \\leq i \\leq d} \\cup (x_i x_j)_{1 \\leq i \\leq j \\leq d}$. For example, the quadratic expansion for $d=2$ is $(x_1,x_2,x_1^2,x_2^2,x_1 x_2)$."
   ]
  },
  {
   "cell_type": "code",
   "execution_count": 12,
   "metadata": {},
   "outputs": [],
   "source": [
    "def SW(X):\n",
    "    return numpy.dot((X-X.mean(axis = 0)).T,(X-X.mean(axis = 0)))\n",
    "\n",
    "def fisher(X1,X2):\n",
    "    w = numpy.dot(numpy.linalg.inv(SW(X1)+SW(X2)),X1.mean(axis = 0)-X2.mean(axis = 0))\n",
    "    w = w/(w**2).sum()**.5\n",
    "    return w\n",
    "    \n",
    "def J(X1,X2,w):\n",
    "    X1m = X1.mean(axis = 0)\n",
    "    X2m = X2.mean(axis = 0)\n",
    "    S1 = SW(X1)\n",
    "    S2 = SW(X2)\n",
    "    S = S1+S2\n",
    "    N = numpy.dot(X1m-X2m,w)**2\n",
    "    D=  numpy.dot(numpy.dot(w,S),w)\n",
    "    return N/D * 1000\n",
    "\n",
    "def phi(X):\n",
    "    Y = []\n",
    "    for x in X:\n",
    "        ind = numpy.triu_indices(X.shape[1])\n",
    "        Y += [numpy.concatenate([x,numpy.outer(x,x)[ind]])]\n",
    "    Y = numpy.array(Y)\n",
    "    print(Y.shape)\n",
    "    return Y\n"
   ]
  },
  {
   "cell_type": "code",
   "execution_count": 13,
   "metadata": {},
   "outputs": [],
   "source": [
    "##### YOUR CODE HERE\n",
    "import numpy\n",
    "\n",
    "def fisher(X1,X2):\n",
    "    m1 = numpy.mean(X1,axis = 0)\n",
    "    m2 = numpy.mean(X2,axis = 0)\n",
    "    m1 = m1.reshape(1,m1.shape[0])\n",
    "    m2 = m2.reshape(1,m2.shape[0])\n",
    "    Sw = (X1 - m1).T.dot(X1 - m1) + (X2 - m2).T.dot(X2 - m2)\n",
    "    w = (m1 - m2).dot(numpy.linalg.inv(Sw))\n",
    "    w = w/numpy.linalg.norm(w)\n",
    "    return w\n",
    "\n",
    "def J(X1,X2,w):\n",
    "    m1 = numpy.mean(X1,axis = 0)\n",
    "    m2 = numpy.mean(X2,axis = 0)\n",
    "    m1 = m1.reshape(1,m1.shape[0])\n",
    "    m2 = m2.reshape(1,m2.shape[0])\n",
    "    Sw = (X1 - m1).T.dot(X1 - m1) + (X2 - m2).T.dot(X2 - m2)\n",
    "    Sb = (m1 - m2).T.dot(m1 - m2)\n",
    "    J = (w.dot(Sb).dot(w.T))/(w.dot(Sw).dot(w.T))\n",
    "    #J = J[0][0]\n",
    "    return J\n",
    "\n",
    "def phi(X):\n",
    "    d = X.shape[1]\n",
    "    z = numpy.zeros([X.shape[0],int(d*(d + 3)/2)])\n",
    "    \n",
    "    for i in range(X.shape[0]):\n",
    "        x = X[i,:]\n",
    "        x = x.reshape(1,d)\n",
    "        Z = numpy.dot(x.T,x)\n",
    "        index = numpy.triu_indices(d)\n",
    "        z[i,:] = numpy.append(x,Z[index])\n",
    "    return z\n",
    "###"
   ]
  },
  {
   "cell_type": "code",
   "execution_count": 14,
   "metadata": {},
   "outputs": [
    {
     "ename": "SyntaxError",
     "evalue": "invalid syntax (<ipython-input-14-e3aab17e4390>, line 6)",
     "output_type": "error",
     "traceback": [
      "\u001b[1;36m  File \u001b[1;32m\"<ipython-input-14-e3aab17e4390>\"\u001b[1;36m, line \u001b[1;32m6\u001b[0m\n\u001b[1;33m    z[:,d:2d] = X_2[:,d]\u001b[0m\n\u001b[1;37m           ^\u001b[0m\n\u001b[1;31mSyntaxError\u001b[0m\u001b[1;31m:\u001b[0m invalid syntax\n"
     ]
    }
   ],
   "source": [
    "def phi(X):\n",
    "    d = X.shape[1]\n",
    "    z = numpy.zeros([X.shape[0],d*(d + 3)/2])\n",
    "    z[:,:d] = X[:,:d]\n",
    "    X_2 = X**2\n",
    "    z[:,d:2d] = X_2[:,d]\n",
    "    \n",
    "    Z = X(:,numpy.newaxis,:)\n",
    "    z[:,d:2d] = numpy.diag[x]\n",
    "    \n",
    "    for i in range(d):\n",
    "        for j in range(d):\n",
    "            if i != j :\n",
    "                z[:,2d:] = numpy.append(X[:,i]*X[:,j])\n",
    "                  \n",
    "    #for x in (2d + d*(d-1)/2) :\n",
    "    #z[:,2d] = numpy.append(for x in numpy.diag(Z))\n",
    "    #z[2d,:] = numpy.append(for x in numpy.triu(X,1))\n",
    "    return z\n",
    "###"
   ]
  },
  {
   "cell_type": "markdown",
   "metadata": {},
   "source": [
    "## Analysis (20 P)\n",
    "\n",
    "* **Print the value of `J(w)` for each discriminated pair of classes (M/F, M/I, F/I), and for several values of `w`:**\n",
    "\n",
    "  * `w` is a vector that projects the data on the each dimension of the data.\n",
    "  * `w` is the difference between the mean vectors of the two classes.\n",
    "  * `w` is the difference between the mean vectors of the two classes (after quadratic expansion of the data).\n",
    "  * `w` is the Fisher linear discriminant.\n",
    "  * `w` is the Fisher linear discriminant (after quadratic expansion of the data).\n",
    "\n",
    "\n",
    "* **For the simple Fisher linear discriminant, plot a histogram of the projected data for each discriminated pair of classes using the function `utils.Abalone.plot()`.**"
   ]
  },
  {
   "cell_type": "code",
   "execution_count": 15,
   "metadata": {},
   "outputs": [
    {
     "name": "stdout",
     "output_type": "stream",
     "text": [
      "       w                  M/F                  M/I                   F/I          \n",
      "---------------------------------------------------------------------------------------\n",
      "   Dimension 0          0.00001              0.00056               0.00090\n",
      "   Dimension 1          0.00001              0.00060               0.00097\n",
      "   Dimension 2          0.00001              0.00058               0.00072\n",
      "   Dimension 3          0.00001              0.00070               0.00108\n",
      "   Dimension 4          0.00000              0.00060               0.00088\n",
      "   Dimension 5          0.00001              0.00069               0.00109\n",
      "   Dimension 6          0.00001              0.00066               0.00100\n",
      "_______________________________________________________________________________________\n",
      "   Means Linear         0.00001              0.00070               0.00108\n",
      "   Means Quadratic      0.00000              0.00054               0.00083\n",
      "---------------------------------------------------------------------------------------\n",
      "   Fisher Linear        0.00004              0.00075               0.00120\n",
      "   Fisher Quadratic     0.00005              0.00101               0.00154\n"
     ]
    },
    {
     "name": "stderr",
     "output_type": "stream",
     "text": [
      "C:\\Users\\htlsh\\Anaconda3\\lib\\site-packages\\matplotlib\\axes\\_axes.py:6571: UserWarning: The 'normed' kwarg is deprecated, and has been replaced by the 'density' kwarg.\n",
      "  warnings.warn(\"The 'normed' kwarg is deprecated, and has been \"\n"
     ]
    },
    {
     "data": {
      "image/png": "[encoded data removed]",
      "text/plain": [
       "<Figure size 432x288 with 1 Axes>"
      ]
     },
     "metadata": {
      "needs_background": "light"
     },
     "output_type": "display_data"
    },
    {
     "data": {
      "image/png": "[encoded data removed]",
      "text/plain": [
       "<Figure size 432x288 with 1 Axes>"
      ]
     },
     "metadata": {
      "needs_background": "light"
     },
     "output_type": "display_data"
    },
    {
     "data": {
      "image/png": "[encoded data removed]",
      "text/plain": [
       "<Figure size 432x288 with 1 Axes>"
      ]
     },
     "metadata": {
      "needs_background": "light"
     },
     "output_type": "display_data"
    }
   ],
   "source": [
    "##### REPLACE BY YOUR CODE\n",
    "%matplotlib inline\n",
    "M = abalone.M\n",
    "F = abalone.F\n",
    "I = abalone.I\n",
    "M_q = phi(M)\n",
    "F_q = phi(F)\n",
    "I_q = phi(I)\n",
    "\n",
    "print(\"       w        \",\"         M/F        \",\"         M/I         \",\"         F/I          \")\n",
    "print(\"---------------------------------------------------------------------------------------\")\n",
    "for i in range(M.shape[1]):\n",
    "    w = numpy.zeros([1,M.shape[1]])\n",
    "    w[0][i] = 1\n",
    "    print(\"   Dimension {i}\".format(i = i), \"         {JMF:.5f}\".format(JMF = float(J(M,F,w))),\n",
    "          \"             {JMI:.5f}\".format(JMI = float(J(M,I,w))),\n",
    "          \"              {JFI:.5f}\".format(JFI = float(J(F,I,w))))\n",
    "    \n",
    "print(\"_______________________________________________________________________________________\")\n",
    "\n",
    "w_m_mf = M.mean(axis = 0) - F.mean(axis = 0)\n",
    "w_m_mi = M.mean(axis = 0) - I.mean(axis = 0)\n",
    "w_m_fi = F.mean(axis = 0) - I.mean(axis = 0)\n",
    "print(\"   Means Linear\", \"        {JMF:.5f}\".format(JMF = float(J(M,F,w_m_mf))),\n",
    "          \"             {JMI:.5f}\".format(JMI = float(J(M,I,w_m_mi))),\n",
    "          \"              {JFI:.5f}\".format(JFI = float(J(F,I,w_m_fi))))\n",
    "w_m_mf_q = phi(M).mean(axis = 0) - phi(F).mean(axis = 0)\n",
    "w_m_mi_q = phi(M).mean(axis = 0) - phi(I).mean(axis = 0)\n",
    "w_m_fi_q = phi(F).mean(axis = 0) - phi(I).mean(axis = 0)\n",
    "print(\"   Means Quadratic\", \"     {JMF:.5f}\".format(JMF = float(J(phi(M),phi(F),w_m_mf_q))),\n",
    "          \"             {JMI:.5f}\".format(JMI = float(J(phi(M),phi(I),w_m_mi_q))),\n",
    "          \"              {JFI:.5f}\".format(JFI = float(J(phi(F),phi(I),w_m_fi_q))))\n",
    "\n",
    "print(\"---------------------------------------------------------------------------------------\")\n",
    "w_f_mf = fisher(M,F)\n",
    "w_f_mi = fisher(M,I)\n",
    "w_f_fi = fisher(F,I)\n",
    "print(\"   Fisher Linear\", \"       {JMF:.5f}\".format(JMF = float(J(M,F,w_f_mf))),\n",
    "          \"             {JMI:.5f}\".format(JMI = float(J(M,I,w_f_mi))),\n",
    "          \"              {JFI:.5f}\".format(JFI = float(J(F,I,w_f_fi))))\n",
    "w_f_mf_q = fisher(M_q,F_q)\n",
    "w_f_mi_q = fisher(M_q,I_q)\n",
    "w_f_fi_q = fisher(F_q,I_q)\n",
    "print(\"   Fisher Quadratic\", \"    {JMF:.5f}\".format(JMF = float(J(M_q,F_q,w_f_mf_q))),\n",
    "          \"             {JMI:.5f}\".format(JMI = float(J(M_q,I_q,w_f_mi_q))),\n",
    "          \"              {JFI:.5f}\".format(JFI = float(J(F_q,I_q,w_f_fi_q))))\n",
    "\n",
    "abalone.plot(w_f_mf.T,\"Linear Fisher(male/female)\")\n",
    "abalone.plot(w_f_mi.T,\"Linear Fisher(male/infant)\")\n",
    "abalone.plot(w_f_fi.T,\"Linear Fisher(female/infant)\")\n",
    "#####"
   ]
  },
  {
   "cell_type": "code",
   "execution_count": null,
   "metadata": {},
   "outputs": [],
   "source": []
  }
 ],
 "metadata": {
  "kernelspec": {
   "display_name": "Python 3",
   "language": "python",
   "name": "python3"
  },
  "language_info": {
   "codemirror_mode": {
    "name": "ipython",
    "version": 3
   },
   "file_extension": ".py",
   "mimetype": "text/x-python",
   "name": "python",
   "nbconvert_exporter": "python",
   "pygments_lexer": "ipython3",
   "version": "3.7.0"
  }
 },
 "nbformat": 4,
 "nbformat_minor": 1
}
